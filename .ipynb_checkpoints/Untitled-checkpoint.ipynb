{
 "cells": [
  {
   "cell_type": "code",
   "execution_count": 40,
   "metadata": {},
   "outputs": [],
   "source": [
    "import funciones as f\n",
    "\n",
    "def probabilidad_moneda(n,k):\n",
    "    P = f.Binomial(n,k)/(2**n)\n",
    "    return P\n",
    "\n",
    "    \n",
    "    "
   ]
  },
  {
   "cell_type": "code",
   "execution_count": 47,
   "metadata": {},
   "outputs": [
    {
     "name": "stdout",
     "output_type": "stream",
     "text": [
      "la probabilidad de que si se hace este experimento 100 veces, el resultado sean 10 veces cara es: \n",
      "\n",
      "1.3655426387463099e-17 \n",
      "\n",
      "Y la probabilidad que caiga cara mas de 30 veces es:  \n",
      "\n",
      "0.9999839199923523\n"
     ]
    }
   ],
   "source": [
    "print('la probabilidad de que si se hace este experimento 100 veces, el resultado sean 10 veces cara es:','\\n')\n",
    "print((probabilidad_moneda(100,10)), '\\n')\n",
    "\n",
    "print('Y la probabilidad que caiga cara mas de 30 veces es: ', '\\n')\n",
    "suma = 0\n",
    "for k in range (30,100+1):\n",
    "    \n",
    "    suma += probabilidad_moneda(100,k)\n",
    "print(suma)\n"
   ]
  }
 ],
 "metadata": {
  "kernelspec": {
   "display_name": "Python 3",
   "language": "python",
   "name": "python3"
  },
  "language_info": {
   "codemirror_mode": {
    "name": "ipython",
    "version": 3
   },
   "file_extension": ".py",
   "mimetype": "text/x-python",
   "name": "python",
   "nbconvert_exporter": "python",
   "pygments_lexer": "ipython3",
   "version": "3.5.2"
  }
 },
 "nbformat": 4,
 "nbformat_minor": 2
}
