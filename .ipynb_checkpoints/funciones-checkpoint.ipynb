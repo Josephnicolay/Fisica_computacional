{
 "cells": [
  {
   "cell_type": "code",
   "execution_count": 47,
   "metadata": {},
   "outputs": [],
   "source": [
    "import numpy as np\n",
    "import math as m\n"
   ]
  },
  {
   "cell_type": "code",
   "execution_count": 199,
   "metadata": {},
   "outputs": [],
   "source": [
    "def Factorial(n):\n",
    "    if n<0 or n!=m.floor(n):\n",
    "        print('¡Error! La función factorial solo admite enteros positivos mayores o iguales a cero.')\n",
    "    else:\n",
    "        value=1\n",
    "        for i in range (1,n+1):\n",
    "            value *=i\n",
    "       \n",
    "        return int(value)\n",
    "\n",
    "             \n",
    "    \n",
    "def Binomial(n,r):\n",
    "    if r>n or r<0 or r!=m.floor(r) or n!=m.floor(n):\n",
    "        print('La función Binomial(n,r) solo admite enteros de r entre [0,n], con n mayor o igual a cero')\n",
    "    else:\n",
    "        value = Factorial(n)/(Factorial(r) * Factorial(n-r))\n",
    "        return int(value)"
   ]
  },
  {
   "cell_type": "code",
   "execution_count": 509,
   "metadata": {},
   "outputs": [],
   "source": [
    "def Pascal(n):\n",
    "    \n",
    "    archivo = open('Pascal-n.txt.','w')\n",
    "\n",
    "    for i in range(0,int(n)):\n",
    "        \n",
    "        T = np.zeros(i+1, dtype=int)       \n",
    "        \n",
    "        for j in range(0,int(i+1)):\n",
    "            \n",
    "            T[j] = Binomial(i,j)\n",
    "        \n",
    "        \n",
    "        \n",
    "        print('n = %.d ' %(i), end=' '*(int((2*n+6)*0.5-2*i)))\n",
    "        g = str(T)\n",
    "        g=g.replace(',','')\n",
    "        g=g.replace('[','')\n",
    "        g=g.replace(']','')\n",
    "        separator = ' '    \n",
    "        print(separator.join(g))\n",
    "        archivo.write('n = %.d ' %(i) +' '*int((2*n+6)*0.5-2*i))\n",
    "        archivo.write(separator.join(g)+'\\n')\n",
    "        \n",
    "            \n",
    "    \n",
    "    return \n",
    "            \n",
    "            \n",
    "            \n",
    "   "
   ]
  },
  {
   "cell_type": "code",
   "execution_count": 514,
   "metadata": {},
   "outputs": [
    {
     "name": "stdout",
     "output_type": "stream",
     "text": [
      "n = 0         1\n",
      "n = 1       1   1\n",
      "n = 2     1   2   1\n",
      "n = 3   1   3   3   1\n",
      "n = 4 1   4   6   4   1\n"
     ]
    }
   ],
   "source": [
    "Pascal(5)"
   ]
  },
  {
   "cell_type": "code",
   "execution_count": 503,
   "metadata": {},
   "outputs": [],
   "source": [
    "def Pascal1(n):\n",
    "    text = open('pt.txt','w')\n",
    "    a=[]\n",
    "    for i in range(n):\n",
    "        a.append([])\n",
    "        a[i].append(1)\n",
    "        for j in range(1,i):\n",
    "            a[i].append(a[i-1][j-1]+a[i-1][j])\n",
    "        if(n!=0):\n",
    "            a[i].append(1)\n",
    "    for i in range(n):\n",
    "        print('n = %.d'%(i), \"   \"*(n-i),end=\" \",sep=\" \")\n",
    "        for j in range(0,i+1):\n",
    "            print('{0:6}'.format(a[i][j]),end=\" \",sep=\" \")\n",
    "            \n",
    "        print()"
   ]
  },
  {
   "cell_type": "code",
   "execution_count": 506,
   "metadata": {},
   "outputs": [
    {
     "name": "stdout",
     "output_type": "stream",
     "text": [
      "n = 0                                     1 \n",
      "n = 1                                  1      1 \n",
      "n = 2                               1      2      1 \n",
      "n = 3                            1      3      3      1 \n",
      "n = 4                         1      4      6      4      1 \n",
      "n = 5                      1      5     10     10      5      1 \n",
      "n = 6                   1      6     15     20     15      6      1 \n",
      "n = 7                1      7     21     35     35     21      7      1 \n",
      "n = 8             1      8     28     56     70     56     28      8      1 \n",
      "n = 9          1      9     36     84    126    126     84     36      9      1 \n"
     ]
    }
   ],
   "source": [
    "Pascal1(10)"
   ]
  },
  {
   "cell_type": "code",
   "execution_count": null,
   "metadata": {},
   "outputs": [],
   "source": []
  }
 ],
 "metadata": {
  "kernelspec": {
   "display_name": "Python 3",
   "language": "python",
   "name": "python3"
  },
  "language_info": {
   "codemirror_mode": {
    "name": "ipython",
    "version": 3
   },
   "file_extension": ".py",
   "mimetype": "text/x-python",
   "name": "python",
   "nbconvert_exporter": "python",
   "pygments_lexer": "ipython3",
   "version": "3.5.2"
  }
 },
 "nbformat": 4,
 "nbformat_minor": 2
}
