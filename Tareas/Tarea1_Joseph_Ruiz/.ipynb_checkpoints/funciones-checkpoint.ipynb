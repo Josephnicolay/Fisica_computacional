{
 "cells": [
  {
   "cell_type": "code",
   "execution_count": 26,
   "metadata": {},
   "outputs": [],
   "source": [
    "import numpy as np\n",
    "import math as m\n"
   ]
  },
  {
   "cell_type": "code",
   "execution_count": 27,
   "metadata": {},
   "outputs": [],
   "source": [
    "def Factorial(n):\n",
    "    if n<0 or n!=m.floor(n):\n",
    "        print('¡Error! La función factorial solo admite enteros positivos mayores o iguales a cero.')\n",
    "    else:\n",
    "        value=1\n",
    "        for i in range (1,n+1):\n",
    "            value *=i\n",
    "       \n",
    "        return int(value)\n",
    "\n",
    "             \n",
    "    \n",
    "def Binomial(n,r):\n",
    "    if r>n or r<0 or r!=m.floor(r) or n!=m.floor(n):\n",
    "        print('La función Binomial(n,r) solo admite enteros de r entre [0,n], con n mayor o igual a cero')\n",
    "    else:\n",
    "        value = Factorial(n)/(Factorial(r) * Factorial(n-r))\n",
    "        return int(value)"
   ]
  },
  {
   "cell_type": "code",
   "execution_count": 135,
   "metadata": {},
   "outputs": [],
   "source": [
    "def Pascal(n):\n",
    "    \n",
    "    archivo = open('Pascal-n.txt.','w')\n",
    "\n",
    "    for i in range(0,int(n)):\n",
    "        \n",
    "        T = np.zeros(i+1, dtype=int)       \n",
    "        \n",
    "        for j in range(0,int(i+1)):\n",
    "            \n",
    "            T[j] = Binomial(i,j)\n",
    "        \n",
    "        \n",
    "        \n",
    "        print('n = %.d ' %(i), end=' '*(int((2*n+6)*0.5-2*i)))\n",
    "        \n",
    "        \n",
    "        g = str(T)\n",
    "        g=g.replace(',','')\n",
    "        g=g.replace('[','')\n",
    "        g=g.replace(']','')\n",
    "        separator = ' '    \n",
    "        print(separator.join(g))\n",
    "        archivo.write('n = %.d ' %(i) +' '*int((2*n+6)*0.5-2*i))\n",
    "        archivo.write(separator.join(g)+'\\n')\n",
    "        \n",
    "            \n",
    "    \n",
    "    return \n",
    "            \n",
    "            \n",
    "            \n",
    "   "
   ]
  },
  {
   "cell_type": "code",
   "execution_count": 136,
   "metadata": {},
   "outputs": [
    {
     "name": "stdout",
     "output_type": "stream",
     "text": [
      "n = 0         1\n",
      "n = 1       1   1\n",
      "n = 2     1   2   1\n",
      "n = 3   1   3   3   1\n",
      "n = 4 1   4   6   4   1\n"
     ]
    }
   ],
   "source": [
    "Pascal(5)"
   ]
  },
  {
   "cell_type": "code",
   "execution_count": 127,
   "metadata": {},
   "outputs": [],
   "source": [
    "def Pascal1(n):\n",
    "    text = open('pt.txt','w')\n",
    "    a=[]\n",
    "    for i in range(n):\n",
    "        a.append([])\n",
    "        a[i].append(1)\n",
    "        for j in range(1,i):\n",
    "            a[i].append(a[i-1][j-1]+a[i-1][j])\n",
    "        if(n!=0):\n",
    "            a[i].append(1)\n",
    "    for i in range(n):\n",
    "        print('n = %.d'%(i), \"   \"*(n-i),end=\" \",sep=\" \")\n",
    "        \n",
    "        for j in range(0,i+1):\n",
    "            print('{0:6}'.format(a[i][j]),end=\" \",sep=\" \")\n",
    "    \n",
    "            \n",
    "        print()"
   ]
  },
  {
   "cell_type": "code",
   "execution_count": 128,
   "metadata": {},
   "outputs": [
    {
     "name": "stdout",
     "output_type": "stream",
     "text": [
      "n = 0                                     1 \n",
      "n = 1                                  1      1 \n",
      "n = 2                               1      2      1 \n",
      "n = 3                            1      3      3      1 \n",
      "n = 4                         1      4      6      4      1 \n",
      "n = 5                      1      5     10     10      5      1 \n",
      "n = 6                   1      6     15     20     15      6      1 \n",
      "n = 7                1      7     21     35     35     21      7      1 \n",
      "n = 8             1      8     28     56     70     56     28      8      1 \n",
      "n = 9          1      9     36     84    126    126     84     36      9      1 \n"
     ]
    }
   ],
   "source": [
    "Pascal1(10)"
   ]
  },
  {
   "cell_type": "code",
   "execution_count": 129,
   "metadata": {},
   "outputs": [],
   "source": [
    "def Pascal2(n):\n",
    "    \n",
    "    archivo = open('Pascal-n.txt.','w')\n",
    "    T=[]\n",
    "\n",
    "    for i in range(0,int(n)):      \n",
    "        \n",
    "        T.append([])       \n",
    "        \n",
    "        for j in range(0,int(i+1)):\n",
    "            \n",
    "            T[i].append(Binomial(i,j))\n",
    "            \n",
    "        np.savetxt(archivo, T[i], fmt='%d', newline=' ')\n",
    "        np.savetxt(archivo, [], newline='\\n')\n",
    "        \n",
    "    for i in range(0,int(n)):\n",
    "        print('n = %.d'%(i), \"   \"*int(n-i),end=\" \",sep=\" \")\n",
    "        \n",
    "        for j in range(0,int(i+1)):\n",
    "            print('{0:6}'.format(T[i][j]),end=\" \",sep=\" \")\n",
    "            \n",
    "\n",
    "\n",
    "        print()\n",
    "        \n",
    "    \n",
    "    return "
   ]
  },
  {
   "cell_type": "code",
   "execution_count": 130,
   "metadata": {},
   "outputs": [
    {
     "name": "stdout",
     "output_type": "stream",
     "text": [
      "n = 0                                                 1 \n",
      "n = 1                                              1      1 \n",
      "n = 2                                           1      2      1 \n",
      "n = 3                                        1      3      3      1 \n",
      "n = 4                                     1      4      6      4      1 \n",
      "n = 5                                  1      5     10     10      5      1 \n",
      "n = 6                               1      6     15     20     15      6      1 \n",
      "n = 7                            1      7     21     35     35     21      7      1 \n",
      "n = 8                         1      8     28     56     70     56     28      8      1 \n",
      "n = 9                      1      9     36     84    126    126     84     36      9      1 \n",
      "n = 10                   1     10     45    120    210    252    210    120     45     10      1 \n",
      "n = 11                1     11     55    165    330    462    462    330    165     55     11      1 \n",
      "n = 12             1     12     66    220    495    792    924    792    495    220     66     12      1 \n",
      "n = 13          1     13     78    286    715   1287   1716   1716   1287    715    286     78     13      1 \n"
     ]
    }
   ],
   "source": [
    "Pascal2(14)"
   ]
  },
  {
   "cell_type": "code",
   "execution_count": null,
   "metadata": {},
   "outputs": [],
   "source": []
  }
 ],
 "metadata": {
  "kernelspec": {
   "display_name": "Python 3",
   "language": "python",
   "name": "python3"
  },
  "language_info": {
   "codemirror_mode": {
    "name": "ipython",
    "version": 3
   },
   "file_extension": ".py",
   "mimetype": "text/x-python",
   "name": "python",
   "nbconvert_exporter": "python",
   "pygments_lexer": "ipython3",
   "version": "3.5.2"
  }
 },
 "nbformat": 4,
 "nbformat_minor": 2
}
