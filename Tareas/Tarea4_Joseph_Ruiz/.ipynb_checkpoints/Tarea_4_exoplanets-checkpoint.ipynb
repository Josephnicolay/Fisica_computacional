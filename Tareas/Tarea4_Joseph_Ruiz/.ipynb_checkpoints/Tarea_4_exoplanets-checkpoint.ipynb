{
 "cells": [
  {
   "cell_type": "markdown",
   "metadata": {},
   "source": [
    "# Tarea 4\n",
    "Curso de Física computacional\n",
    "\n",
    "Joseph Nicolay Ruiz Alvarez\n",
    "\n",
    "\n"
   ]
  },
  {
   "cell_type": "code",
   "execution_count": 144,
   "metadata": {},
   "outputs": [
    {
     "data": {
      "text/html": [
       "<script>jQuery(function() {if (jQuery(\"body.notebook_app\").length == 0) { jQuery(\".input_area\").toggle(); jQuery(\".prompt\").toggle();}});</script>"
      ]
     },
     "metadata": {},
     "output_type": "display_data"
    },
    {
     "data": {
      "text/html": [
       "<button onclick=\"jQuery('.input_area').toggle(); jQuery('.prompt').toggle();\">Pulse para codigo</button>"
      ]
     },
     "metadata": {},
     "output_type": "display_data"
    }
   ],
   "source": [
    "#Importación de librerías para el desarollo de la tarea\n",
    "import numpy as np\n",
    "import matplotlib.pyplot as plt\n",
    "import pandas as pdf\n",
    "from scipy import constants\n",
    "\n",
    "from IPython.display import display, Math,  Latex\n",
    "from IPython.display import HTML\n",
    "import IPython.core.display as di # Example: di.display_html('<h3>%s:</h3>' % str, raw=True)\n",
    "\n",
    "# This line will hide code by default when the notebook is exported as HTML\n",
    "di.display_html('<script>jQuery(function() {if (jQuery(\"body.notebook_app\").length == 0) { jQuery(\".input_area\").toggle(); jQuery(\".prompt\").toggle();}});</script>', raw=True)\n",
    "\n",
    "# This line will add a button to toggle visibility of code blocks, for use with the HTML export version\n",
    "di.display_html('''<button onclick=\"jQuery('.input_area').toggle(); jQuery('.prompt').toggle();\">Pulse para codigo</button>''', raw=True)\n",
    "\n"
   ]
  },
  {
   "cell_type": "markdown",
   "metadata": {},
   "source": [
    "## Introducción \n",
    "\n",
    "La zona habitable es una region en la que cualquier planeta rocoso con ciertas condiciones (composicion atmosférica, excentricidad, rotacion, etc.) puede tener agua en estado lıquido sobre su superficie. En general es un proceso complicado determinar si un planeta est ́a en la zona habitable de una estrella, pero para este ejercicio vamos a utilizar un prosedimiento aproximado desarrollad en http://phl.upr.edu/. Donde se calculan los limites interior ($r_i$) y exterior ($r_o$) de la zona de habitabilidad usando la siguientes expresiones:\n",
    "\n",
    "$$ r_{i} = [r_{is} − a_{i}(T_{eff} − T_{s}) − b_{i}(T_{eff} − T_{s})\\sqrt{\\mathcal{L}}$$\n",
    "\n",
    "$$ r_{o} = [r_{os} − a_{o}(T_{eff} − T_{s}) − b_{o}(T_{eff} − T_{s})\\sqrt{\\mathcal{L}} $$\n",
    "\n",
    "\n",
    "donde $\\mathcal{L} = 4\\pi R^{2} \\sigma T^{4}$ es la luminosidad estelar en unidades solares, $T_{eff}$ es la temperatura efectiva estelar en unidades $K$, $T_{s} = 5780 K$ la temperatura efectiva del sol y $a_{i} = 2.7619e−5$, $b_{i} = 3.8095e−9$, $a_{o} = 1.3786e−4$, $b_{o} = 1.4286e−9$, $r_{is} = 0. 72$ y $r_{os} = 1. 77$ son constantes. Aquellos planetas que se encuentre entre dichos límites definidos por $[r_{i},r_{o}]$.\n",
    "\n",
    "\n",
    "## Desarrollo del código\n",
    "\n",
    "Se obtiene la base de datos de exoplanetas encontrados hasta el momento de http://exoplanets.org/csv-files/exoplanets.csv y se cargan en un marco de datos (Data Frame (DF)).\n",
    "\n",
    "###  Creacíon de un DF\n",
    "\n",
    "Se seguiran las siguientes instrucciones en la creación del marco de datos \n",
    "\n",
    "-rescalamiento de unidades\n",
    "-elección de sistemas no binarios\n",
    "-cálculo de la luminosidad relativa (luminositad solar), límites $r_{i}$, $r_{o}$\n",
    "-región habitable"
   ]
  },
  {
   "cell_type": "code",
   "execution_count": 172,
   "metadata": {},
   "outputs": [
    {
     "name": "stderr",
     "output_type": "stream",
     "text": [
      "/home/joshep/.local/lib/python3.5/site-packages/IPython/core/interactiveshell.py:2785: DtypeWarning: Columns (4,5,10,11,17,18,23,24,26,27,30,33,38,39,44,45,50,51,56,57,62,63,70,71,73,74,79,80,81,82,88,89,95,96,105,106,109,110,115,116,117,124,125,130,131,137,143,144,149,150,159,160,161,162,172,173,174,179,180,182,188,189,195,196,201,202,205,206,211,212,217,218,223,224,229,230,235,236,241,242,247,248,253,254,259,260,265,266,268,269,270,271,273,278,279,284,285,290,291,294,295,301,302,304,305,310,311) have mixed types. Specify dtype option on import or set low_memory=False.\n",
      "  interactivity=interactivity, compiler=compiler, result=result)\n"
     ]
    }
   ],
   "source": [
    "#Leemos los datos descargados\n",
    "df = pd.read_csv('exoplanets.csv')\n",
    "\n",
    "# Etiquetas\n",
    "## Para el planeta\n",
    "\n",
    "NAME = df['NAME']          # Nombre del exoplaneta\n",
    "TEFF = df['TEFF']          # Temperatura efectiva\n",
    "MASS = df['MASS']          # Masa del exoplaneta\n",
    "A = df['A']                # Distancia del exoplaneta desde la estrella [AU]\n",
    "DENSITY = df['DENSITY']    # Densidad del exoplaneta\n",
    "R = df['R']                # Radio del exoplaneta\n",
    "\n",
    "# Para la estrella\n",
    "\n",
    "STAR = df['STAR']          # Nombre de la estrella\n",
    "MSTAR = df['MSTAR']        # Masa de la estrella\n",
    "RSTAR = df['RSTAR']        # Radio de la estrella\n",
    "\n",
    "# Para identificar si el sistema es o no es binario\n",
    "BINARY = df['BINARY']  \n",
    "\n",
    "\n",
    "#Los datos de masa y el radio son jovianos (Jupiter)\n",
    "#Definimos algunas funciones de conversio a unidades Tierra\n",
    "#(valores de conversión tomados de Google)\n",
    "\n",
    "# Conversion de masa joviana a masa terrestre\n",
    "def EarthMass(x):\n",
    "    return 317.907*x\n",
    "\n",
    "\n",
    "\n",
    "# Conversion de radio joviano a radio terrestre\n",
    "def EarthRadius(x):\n",
    "    return 11.2089*x\n",
    "\n",
    "# Hacemos la conversión\n",
    "\n",
    "# Radio\n",
    "RE = R.pipe(EarthRadius)\n",
    "\n",
    "# Masa\n",
    "MASSE = MASS.pipe(EarthMass)\n",
    "\n",
    "\n",
    "\n",
    "#Reinventamos el DF con los nuevos ajustes y designaciones\n",
    "\n",
    "dict = { \"NAME\": NAME, \"TEFF\": TEFF, \"MASSJ\": MASS, \"MASSE\": MASSE, \"A\": A, \"DENSITY\":DENSITY, \"RJ\":R,\"RE\":RE ,\" STAR\": STAR, \"MSTAR\": MSTAR, \"RSTAR\": RSTAR,\"BINARY\":BINARY }\n",
    "df = pd.DataFrame(dict) \n",
    "\n",
    "#Algunos valores aparecen como vacíos (NaN) y nulos (0==False)\n",
    "#df.notnull()\n",
    "# Así que descartemos los sistemas que presentan estas características, sistemas Binarios\n",
    "#Es decir, descartamos si BINARY == True (1) & NaN y extraemos los BINARY  == False (0)\n",
    "df = df.query(\"BINARY == False\")\n",
    "\n",
    "#Filtramos y seleccionamos los exoplanetas rocosos\n",
    "df = df.query(\"DENSITY>=5\")  #5 g/cm³\n",
    "\n",
    "#Visualizar valores no nulos de las columnas\n",
    "#df.notnull()\n",
    "\n",
    "# Función para convertir Rad solares a metros\n",
    "def Rad_sol_to_meters(x):\n",
    "    return x*6.95700*10**8\n",
    "\n",
    "# Calculemos ahora la luminosidad relatividad al sol\n",
    "def Luminosity(Ratio,Temperature):\n",
    "    \n",
    "    sigma_b = constants.Stefan_Boltzmann\n",
    "    pi = constants.pi\n",
    "    lumin_solar = 3.83e+26\n",
    "    return (4*pi*Rad_sol_to_meters(Ratio)**2*sigma_b*Temperature**4)/lumin_solar\n",
    "\n",
    "# Anexamos una columna: Luminosidad relativa de la Estrella\n",
    "df[\"LUM\"] = Luminosity(df['RSTAR'],df['TEFF'])\n",
    "\n",
    "\n",
    "#Cálculo de los límites\n",
    "\n",
    "Ts = 5780         # Temperatura efectiva del sol\n",
    "a_i = 2.7619e-5   # constante\n",
    "b_i = 3.8095e-9   # constante\n",
    "a_o = 1.3786e-4   # constante\n",
    "b_o = 1.4286e-9   # constante \n",
    "r_is = 0.72      # ri sol (intern)\n",
    "r_os = 1.77      # ro sol (outer)\n",
    "\n",
    "df[\"$r_i$\"] = (r_is - a_i*(df[\"TEFF\"] - Ts) - b_i*(df[\"TEFF\"] - Ts)**2 )*np.sqrt(df[\"LUM\"])\n",
    "df[\"$r_o$\"] = (r_os - a_o*(df[\"TEFF\"] - Ts) - b_o*(df[\"TEFF\"] - Ts)**2 )*np.sqrt(df[\"LUM\"])\n",
    "\n",
    "#Zona habitable HZD (Habitable Zone Distance)\n",
    "df[\"HZD\"] = (2*df[\"A\"] - df[\"$r_o$\"] - df[\"$r_i$\"])/(df[\"$r_o$\"] - df[\"$r_i$\"])\n",
    "\n",
    "#Seleccionamos aquellos que cumplan -1<=HZD<=1\n",
    "df = df.query(\"HZD<=1 and HZD>=-1\")\n",
    "\n",
    "\n",
    "\n"
   ]
  },
  {
   "cell_type": "code",
   "execution_count": 173,
   "metadata": {},
   "outputs": [
    {
     "name": "stdout",
     "output_type": "stream",
     "text": [
      "Los exoplanetas rocosos (densidad mayor o igual a 5 g/cm³) en la distacia de zona habitable son:\n",
      "Dimensiones del Data Frame son:  (3, 16)\n"
     ]
    },
    {
     "data": {
      "text/html": [
       "<div>\n",
       "<style scoped>\n",
       "    .dataframe tbody tr th:only-of-type {\n",
       "        vertical-align: middle;\n",
       "    }\n",
       "\n",
       "    .dataframe tbody tr th {\n",
       "        vertical-align: top;\n",
       "    }\n",
       "\n",
       "    .dataframe thead th {\n",
       "        text-align: right;\n",
       "    }\n",
       "</style>\n",
       "<table border=\"1\" class=\"dataframe\">\n",
       "  <thead>\n",
       "    <tr style=\"text-align: right;\">\n",
       "      <th></th>\n",
       "      <th>STAR</th>\n",
       "      <th>A</th>\n",
       "      <th>BINARY</th>\n",
       "      <th>DENSITY</th>\n",
       "      <th>MASSE</th>\n",
       "      <th>MASSJ</th>\n",
       "      <th>MSTAR</th>\n",
       "      <th>NAME</th>\n",
       "      <th>RE</th>\n",
       "      <th>RJ</th>\n",
       "      <th>RSTAR</th>\n",
       "      <th>TEFF</th>\n",
       "      <th>LUM</th>\n",
       "      <th>$r_i$</th>\n",
       "      <th>$r_o$</th>\n",
       "      <th>HZD</th>\n",
       "    </tr>\n",
       "  </thead>\n",
       "  <tbody>\n",
       "    <tr>\n",
       "      <th>1566</th>\n",
       "      <td>K2-18</td>\n",
       "      <td>0.142931</td>\n",
       "      <td>0.0</td>\n",
       "      <td>7.8700</td>\n",
       "      <td>8.054810</td>\n",
       "      <td>0.025337</td>\n",
       "      <td>0.359</td>\n",
       "      <td>K2-18 b</td>\n",
       "      <td>2.427556</td>\n",
       "      <td>0.216574</td>\n",
       "      <td>0.411</td>\n",
       "      <td>3457.0</td>\n",
       "      <td>0.021724</td>\n",
       "      <td>0.112549</td>\n",
       "      <td>0.306950</td>\n",
       "      <td>-0.687426</td>\n",
       "    </tr>\n",
       "    <tr>\n",
       "      <th>2417</th>\n",
       "      <td>Kepler-22</td>\n",
       "      <td>0.848513</td>\n",
       "      <td>0.0</td>\n",
       "      <td>12.8929</td>\n",
       "      <td>5.828666</td>\n",
       "      <td>0.018335</td>\n",
       "      <td>0.970</td>\n",
       "      <td>Kepler-22 b</td>\n",
       "      <td>2.381891</td>\n",
       "      <td>0.212500</td>\n",
       "      <td>0.979</td>\n",
       "      <td>5518.0</td>\n",
       "      <td>0.800126</td>\n",
       "      <td>0.650277</td>\n",
       "      <td>1.615482</td>\n",
       "      <td>-0.589236</td>\n",
       "    </tr>\n",
       "    <tr>\n",
       "      <th>2910</th>\n",
       "      <td>LHS 1140</td>\n",
       "      <td>0.087494</td>\n",
       "      <td>0.0</td>\n",
       "      <td>12.5000</td>\n",
       "      <td>6.748816</td>\n",
       "      <td>0.021229</td>\n",
       "      <td>0.146</td>\n",
       "      <td>LHS 1140 b</td>\n",
       "      <td>1.468489</td>\n",
       "      <td>0.131011</td>\n",
       "      <td>0.186</td>\n",
       "      <td>3131.0</td>\n",
       "      <td>0.002994</td>\n",
       "      <td>0.041936</td>\n",
       "      <td>0.116280</td>\n",
       "      <td>0.225593</td>\n",
       "    </tr>\n",
       "  </tbody>\n",
       "</table>\n",
       "</div>"
      ],
      "text/plain": [
       "           STAR         A  BINARY  DENSITY     MASSE     MASSJ  MSTAR  \\\n",
       "1566      K2-18  0.142931     0.0   7.8700  8.054810  0.025337  0.359   \n",
       "2417  Kepler-22  0.848513     0.0  12.8929  5.828666  0.018335  0.970   \n",
       "2910   LHS 1140  0.087494     0.0  12.5000  6.748816  0.021229  0.146   \n",
       "\n",
       "             NAME        RE        RJ  RSTAR    TEFF       LUM     $r_i$  \\\n",
       "1566      K2-18 b  2.427556  0.216574  0.411  3457.0  0.021724  0.112549   \n",
       "2417  Kepler-22 b  2.381891  0.212500  0.979  5518.0  0.800126  0.650277   \n",
       "2910   LHS 1140 b  1.468489  0.131011  0.186  3131.0  0.002994  0.041936   \n",
       "\n",
       "         $r_o$       HZD  \n",
       "1566  0.306950 -0.687426  \n",
       "2417  1.615482 -0.589236  \n",
       "2910  0.116280  0.225593  "
      ]
     },
     "execution_count": 173,
     "metadata": {},
     "output_type": "execute_result"
    }
   ],
   "source": [
    "#Data Frame resultante\n",
    "print('Los exoplanetas rocosos (densidad mayor o igual a 5 g/cm³) en la distacia de zona habitable son:')\n",
    "print('Dimensiones del Data Frame son: ', df.shape)\n",
    "df\n",
    "\n"
   ]
  },
  {
   "cell_type": "code",
   "execution_count": 186,
   "metadata": {},
   "outputs": [
    {
     "data": {
      "text/plain": [
       "<matplotlib.axes._subplots.AxesSubplot at 0x7f87d4fec0f0>"
      ]
     },
     "execution_count": 186,
     "metadata": {},
     "output_type": "execute_result"
    },
    {
     "data": {
      "image/png": "[encoded data removed]",
      "text/plain": [
       "<Figure size 432x288 with 1 Axes>"
      ]
     },
     "metadata": {},
     "output_type": "display_data"
    },
    {
     "data": {
      "image/png": "[encoded data removed]",
      "text/plain": [
       "<Figure size 432x288 with 1 Axes>"
      ]
     },
     "metadata": {},
     "output_type": "display_data"
    },
    {
     "data": {
      "image/png": "[encoded data removed]",
      "text/plain": [
       "<Figure size 432x288 with 1 Axes>"
      ]
     },
     "metadata": {},
     "output_type": "display_data"
    },
    {
     "data": {
      "image/png": "[encoded data removed]",
      "text/plain": [
       "<Figure size 432x288 with 1 Axes>"
      ]
     },
     "metadata": {},
     "output_type": "display_data"
    }
   ],
   "source": [
    "# Gráficas\n",
    "\n",
    "\n",
    "df.plot.scatter(x='MSTAR',y='A',grid= True, color='orange', title = 'Masa de la Estrella VS. Distancia a la Estrella')\n",
    "df.hist(column = 'A')\n",
    "df.plot.scatter(x='DENSITY', y='MSTAR',grid= True,color='red', title = 'Densidad VS. Masa de la Estrella')\n",
    "df.plot.scatter(x='A', y='TEFF',grid= True,color='blue',title = 'Distancia a la Estrella VS. Temperatura Efectiva')"
   ]
  },
  {
   "cell_type": "code",
   "execution_count": null,
   "metadata": {},
   "outputs": [],
   "source": []
  }
 ],
 "metadata": {
  "kernelspec": {
   "display_name": "Python 3",
   "language": "python",
   "name": "python3"
  },
  "language_info": {
   "codemirror_mode": {
    "name": "ipython",
    "version": 3
   },
   "file_extension": ".py",
   "mimetype": "text/x-python",
   "name": "python",
   "nbconvert_exporter": "python",
   "pygments_lexer": "ipython3",
   "version": "3.5.2"
  }
 },
 "nbformat": 4,
 "nbformat_minor": 2
}
