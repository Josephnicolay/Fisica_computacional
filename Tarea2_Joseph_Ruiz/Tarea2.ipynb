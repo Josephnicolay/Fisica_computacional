{
 "cells": [
  {
   "cell_type": "code",
   "execution_count": 58,
   "metadata": {},
   "outputs": [],
   "source": [
    "from vector import VectorCartesiano, VectorPolar\n",
    "import math as m\n"
   ]
  },
  {
   "cell_type": "markdown",
   "metadata": {},
   "source": [
    "Consideremos los siguientes tres vectores dados en la base cartesiana\n",
    "\n",
    "\n",
    "$$ \\textbf{a} = [ 1.5 , 0 , 2.04 ]$$\n",
    "$$ \\textbf{b} = [ 0 , 1 , 9]$$\n",
    "$$ \\textbf{c} = [ 4.2 , 0.05 , 0] $$\n"
   ]
  },
  {
   "cell_type": "markdown",
   "metadata": {},
   "source": [
    "Calculemos su forma en coordenas esféricas"
   ]
  },
  {
   "cell_type": "code",
   "execution_count": 59,
   "metadata": {},
   "outputs": [
    {
     "name": "stdout",
     "output_type": "stream",
     "text": [
      "Vector a =  [ 1.5, 0.0 , 2.0]\n",
      "Vector b =  [ 0.0, 1.0 , 9.0]\n",
      "Vector c =  [ 4.2, 0.1 , 0.0]\n"
     ]
    }
   ],
   "source": [
    "a = VectorPolar(1.5,0,2.04, system='cartesian')\n",
    "b = VectorPolar(0,1,9, system='cartesian')\n",
    "c = VectorPolar(4.2,0.05,0, system='cartesian')\n",
    "\n",
    "print('Vector a = ', end=' ')\n",
    "a.Print()\n",
    "print('Vector b = ', end=' ')\n",
    "b.Print()\n",
    "print('Vector c = ', end=' ')\n",
    "c.Print()"
   ]
  },
  {
   "cell_type": "code",
   "execution_count": 60,
   "metadata": {},
   "outputs": [
    {
     "name": "stdout",
     "output_type": "stream",
     "text": [
      "Forma esférica es a =  [2.532113741521103, 0.0, 0.6340227196634219]\n",
      "Forma esférica es b =  [9.055385138137417, 1.5707963267948966, 0.11065722117389662]\n",
      "Forma esférica es c =  [4.200297608503474, 0.011904199558309828, 1.5707963267948966]\n"
     ]
    }
   ],
   "source": [
    "print(r'Forma esférica es a = ', end=' ')\n",
    "print(a.polar)\n",
    "print(r'Forma esférica es b = ', end=' ')\n",
    "print(b.polar)\n",
    "print(r'Forma esférica es c = ', end=' ')\n",
    "print(c.polar)"
   ]
  },
  {
   "cell_type": "markdown",
   "metadata": {},
   "source": [
    "Calculemos los productos internos de a,b,c"
   ]
  },
  {
   "cell_type": "code",
   "execution_count": 61,
   "metadata": {},
   "outputs": [
    {
     "name": "stdout",
     "output_type": "stream",
     "text": [
      "(a|b) =  18.36\n",
      "(a|c) =  6.300000000000001\n",
      "(b|c) =  0.05\n"
     ]
    }
   ],
   "source": [
    "print('(a|b) = ', end=' ')\n",
    "print(a*b)\n",
    "print('(a|c) = ', end=' ')\n",
    "print(a*c)\n",
    "print('(b|c) = ', end=' ')\n",
    "print(b*c)"
   ]
  },
  {
   "cell_type": "markdown",
   "metadata": {},
   "source": [
    "Calculemos los productos vectoriales "
   ]
  },
  {
   "cell_type": "code",
   "execution_count": 62,
   "metadata": {},
   "outputs": [
    {
     "name": "stdout",
     "output_type": "stream",
     "text": [
      "a x b = [ -2.0, -13.5 , 1.5]\n",
      "a x c = [ -0.1, 8.6 , 0.1]\n",
      "b x c = [ -0.5, 37.8 , -4.2]\n"
     ]
    }
   ],
   "source": [
    "print('a x b =', end=' ')\n",
    "a.Cruz(b).Print()\n",
    "print('a x c =', end=' ')\n",
    "a.Cruz(c).Print()\n",
    "print('b x c =', end=' ')\n",
    "b.Cruz(c).Print()"
   ]
  },
  {
   "cell_type": "markdown",
   "metadata": {},
   "source": [
    "Calculculemos el angulo entre un par de vectores"
   ]
  },
  {
   "cell_type": "code",
   "execution_count": 86,
   "metadata": {},
   "outputs": [
    {
     "data": {
      "text/plain": [
       "'Retorna el angulo de separacion entre dos vectores medido en radianes'"
      ]
     },
     "execution_count": 86,
     "metadata": {},
     "output_type": "execute_result"
    }
   ],
   "source": [
    "#Definase la funcion angulo_separacion\n",
    "#Retorna \n",
    "\n",
    "def angulo_separacion(x,y):\n",
    "    '''Retorna el angulo de separacion entre dos vectores medido en radianes'''\n",
    "    #x, y instanciados por la clase VectorCartesiano(values) o VectorPolar (values, system='cartesian')\n",
    "    return float(m.acos((x*y)/(x.magnitud*y.magnitud)))\n",
    "angulo_separacion.__doc__"
   ]
  },
  {
   "cell_type": "code",
   "execution_count": 87,
   "metadata": {},
   "outputs": [
    {
     "name": "stdout",
     "output_type": "stream",
     "text": [
      "El angulo entre a y b es 0.64 rad\n",
      "El angulo entre a y c es 0.94 rad\n",
      "El angulo entre b y c es 1.57 rad\n"
     ]
    }
   ],
   "source": [
    "print('El angulo entre a y b es %.2f rad'%(angulo_separacion(a,b)))\n",
    "\n",
    "print('El angulo entre a y c es %.2f rad'%(angulo_separacion(a,c)))\n",
    "\n",
    "print('El angulo entre b y c es %.2f rad' %(angulo_separacion(b,c)))\n",
    "\n"
   ]
  },
  {
   "cell_type": "code",
   "execution_count": null,
   "metadata": {},
   "outputs": [],
   "source": []
  }
 ],
 "metadata": {
  "kernelspec": {
   "display_name": "Python 3",
   "language": "python",
   "name": "python3"
  },
  "language_info": {
   "codemirror_mode": {
    "name": "ipython",
    "version": 3
   },
   "file_extension": ".py",
   "mimetype": "text/x-python",
   "name": "python",
   "nbconvert_exporter": "python",
   "pygments_lexer": "ipython3",
   "version": "3.5.2"
  }
 },
 "nbformat": 4,
 "nbformat_minor": 2
}
